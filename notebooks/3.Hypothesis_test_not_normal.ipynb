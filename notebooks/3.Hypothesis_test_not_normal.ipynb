{
 "cells": [
  {
   "cell_type": "markdown",
   "id": "eddefa5f-81ec-457d-a58b-8bcf6710e402",
   "metadata": {},
   "source": [
    "## Hypothesis testing for not normal populations\n",
    "\n",
    "En este caso donde no podemos asumir que las muestras bajo análisis provengan de una población normal. Lo que tenemos que analizar en estos casos son las medianas de ambos grupos. Estos test de hipótesis se suelen decir que son no parámetros dado que no se basan en una distribución en particual sino que dependiendo el test deberemos utilizar distintas herramientas para representarlos."
   ]
  },
  {
   "cell_type": "markdown",
   "id": "b037a3b8-b0af-4286-a819-3d94063e660e",
   "metadata": {},
   "source": [
    "### One sample sign test (test binomial)\n",
    "\n",
    "En estos casos queremos comprar la mediana de una muestra vs una mediana objetivo. En estos casos, lo único que nos interesa analizar es si la muestra es aleatoria y sus observaciones son independientes.\n",
    "\n",
    "El **estadístico** que vamos a utilizar en este caso es: El mínimo de la cantidad valores positívos o valores negativos. Los valores se representan como una variable aleatoria que muestra las diferencias entre la muestra y la mediana objetivo. Pero una vez que tenemos esto tenemos que tener una forma también de calcular el p-value de ese estadístico o el valor crítico correspondiente a un determinado alpha. Pero ¿Cómo lo hacemos si ahora no tenemos una distribución dada?\n",
    "\n",
    "#### ¿Cómo calculamos le p-value?\n",
    "En estos casos nosotros deberíamos poder asignarle una distribución a este tipo de problema. Cómo nosotros estamos trabajando con medianas, es decir, con un percentil del 50%, en la población objetivo nosotros deberíamos poder observar igual cantidad de diferencias positivas y negativas si es que la mediana es exactamente la que nosotros estamos contrastando. Con lo cual esto se vuelve un experimiento dicotómico. \n",
    "\n",
    "Cuales son las características de la binomial:\n",
    "\n",
    "* Tenemos un experimiento con n cantidad de intentos\n",
    "* Cada uno de los intentos es independiente del otro\n",
    "* La probabilidad de éxito es constante a lo largo del experimiento\n",
    "* Solo tenemos dos alternativas\n",
    "\n",
    "\n",
    "#### Ejemplo\n",
    "En el caso que quisieramos contrastar una muestra que representa el tiempo de resolución de un problema a través de la atención telefónica con una mediana hipotética de 15 minutos. Tenemos que..."
   ]
  },
  {
   "cell_type": "code",
   "execution_count": 1,
   "id": "f1e32562-1d8e-4b1d-baab-66ce8210f06f",
   "metadata": {},
   "outputs": [],
   "source": [
    "# Importamos las librerías\n",
    "import numpy as np\n",
    "import pandas as pd\n",
    "import scipy.stats as st\n",
    "\n",
    "# Creamos una muestra aleatoria\n",
    "muestra = pd.DataFrame(data = {'muestra': np.random.uniform(low=10, high=22, size=15).round(0)})\n",
    "\n",
    "# Mediana a contrastar y alpha\n",
    "mediana_ho = 15\n",
    "alpha = 0.05"
   ]
  },
  {
   "cell_type": "code",
   "execution_count": 2,
   "id": "5cfeb3db-2d85-48dc-a149-00a255983e17",
   "metadata": {},
   "outputs": [
    {
     "data": {
      "text/html": [
       "<div>\n",
       "<style scoped>\n",
       "    .dataframe tbody tr th:only-of-type {\n",
       "        vertical-align: middle;\n",
       "    }\n",
       "\n",
       "    .dataframe tbody tr th {\n",
       "        vertical-align: top;\n",
       "    }\n",
       "\n",
       "    .dataframe thead th {\n",
       "        text-align: right;\n",
       "    }\n",
       "</style>\n",
       "<table border=\"1\" class=\"dataframe\">\n",
       "  <thead>\n",
       "    <tr style=\"text-align: right;\">\n",
       "      <th></th>\n",
       "      <th>muestra</th>\n",
       "      <th>diferencia</th>\n",
       "    </tr>\n",
       "  </thead>\n",
       "  <tbody>\n",
       "    <tr>\n",
       "      <th>0</th>\n",
       "      <td>21.0</td>\n",
       "      <td>6.0</td>\n",
       "    </tr>\n",
       "    <tr>\n",
       "      <th>1</th>\n",
       "      <td>13.0</td>\n",
       "      <td>-2.0</td>\n",
       "    </tr>\n",
       "    <tr>\n",
       "      <th>2</th>\n",
       "      <td>14.0</td>\n",
       "      <td>-1.0</td>\n",
       "    </tr>\n",
       "    <tr>\n",
       "      <th>3</th>\n",
       "      <td>11.0</td>\n",
       "      <td>-4.0</td>\n",
       "    </tr>\n",
       "    <tr>\n",
       "      <th>4</th>\n",
       "      <td>12.0</td>\n",
       "      <td>-3.0</td>\n",
       "    </tr>\n",
       "  </tbody>\n",
       "</table>\n",
       "</div>"
      ],
      "text/plain": [
       "   muestra  diferencia\n",
       "0     21.0         6.0\n",
       "1     13.0        -2.0\n",
       "2     14.0        -1.0\n",
       "3     11.0        -4.0\n",
       "4     12.0        -3.0"
      ]
     },
     "execution_count": 2,
     "metadata": {},
     "output_type": "execute_result"
    }
   ],
   "source": [
    "muestra['diferencia'] = muestra['muestra'] - mediana_ho\n",
    "muestra.head(5)"
   ]
  },
  {
   "cell_type": "code",
   "execution_count": 3,
   "id": "a65bd6b5-d461-4220-8377-7a122b9b1b7c",
   "metadata": {},
   "outputs": [
    {
     "data": {
      "text/plain": [
       "(15, 2)"
      ]
     },
     "execution_count": 3,
     "metadata": {},
     "output_type": "execute_result"
    }
   ],
   "source": [
    "# Eliminamos los valores cuya diferencia sea negativa\n",
    "muestra = muestra[muestra['diferencia'] != 0]\n",
    "muestra.shape"
   ]
  },
  {
   "cell_type": "code",
   "execution_count": 4,
   "id": "24537fe3-08f9-4a2b-8ea7-2d5c769807ac",
   "metadata": {},
   "outputs": [
    {
     "data": {
      "text/html": [
       "<div>\n",
       "<style scoped>\n",
       "    .dataframe tbody tr th:only-of-type {\n",
       "        vertical-align: middle;\n",
       "    }\n",
       "\n",
       "    .dataframe tbody tr th {\n",
       "        vertical-align: top;\n",
       "    }\n",
       "\n",
       "    .dataframe thead th {\n",
       "        text-align: right;\n",
       "    }\n",
       "</style>\n",
       "<table border=\"1\" class=\"dataframe\">\n",
       "  <thead>\n",
       "    <tr style=\"text-align: right;\">\n",
       "      <th></th>\n",
       "      <th>muestra</th>\n",
       "      <th>diferencia</th>\n",
       "      <th>signo</th>\n",
       "    </tr>\n",
       "  </thead>\n",
       "  <tbody>\n",
       "    <tr>\n",
       "      <th>0</th>\n",
       "      <td>21.0</td>\n",
       "      <td>6.0</td>\n",
       "      <td>1</td>\n",
       "    </tr>\n",
       "    <tr>\n",
       "      <th>1</th>\n",
       "      <td>13.0</td>\n",
       "      <td>-2.0</td>\n",
       "      <td>0</td>\n",
       "    </tr>\n",
       "    <tr>\n",
       "      <th>2</th>\n",
       "      <td>14.0</td>\n",
       "      <td>-1.0</td>\n",
       "      <td>0</td>\n",
       "    </tr>\n",
       "    <tr>\n",
       "      <th>3</th>\n",
       "      <td>11.0</td>\n",
       "      <td>-4.0</td>\n",
       "      <td>0</td>\n",
       "    </tr>\n",
       "    <tr>\n",
       "      <th>4</th>\n",
       "      <td>12.0</td>\n",
       "      <td>-3.0</td>\n",
       "      <td>0</td>\n",
       "    </tr>\n",
       "    <tr>\n",
       "      <th>5</th>\n",
       "      <td>19.0</td>\n",
       "      <td>4.0</td>\n",
       "      <td>1</td>\n",
       "    </tr>\n",
       "    <tr>\n",
       "      <th>6</th>\n",
       "      <td>14.0</td>\n",
       "      <td>-1.0</td>\n",
       "      <td>0</td>\n",
       "    </tr>\n",
       "    <tr>\n",
       "      <th>7</th>\n",
       "      <td>18.0</td>\n",
       "      <td>3.0</td>\n",
       "      <td>1</td>\n",
       "    </tr>\n",
       "    <tr>\n",
       "      <th>8</th>\n",
       "      <td>14.0</td>\n",
       "      <td>-1.0</td>\n",
       "      <td>0</td>\n",
       "    </tr>\n",
       "    <tr>\n",
       "      <th>9</th>\n",
       "      <td>12.0</td>\n",
       "      <td>-3.0</td>\n",
       "      <td>0</td>\n",
       "    </tr>\n",
       "  </tbody>\n",
       "</table>\n",
       "</div>"
      ],
      "text/plain": [
       "   muestra  diferencia  signo\n",
       "0     21.0         6.0      1\n",
       "1     13.0        -2.0      0\n",
       "2     14.0        -1.0      0\n",
       "3     11.0        -4.0      0\n",
       "4     12.0        -3.0      0\n",
       "5     19.0         4.0      1\n",
       "6     14.0        -1.0      0\n",
       "7     18.0         3.0      1\n",
       "8     14.0        -1.0      0\n",
       "9     12.0        -3.0      0"
      ]
     },
     "execution_count": 4,
     "metadata": {},
     "output_type": "execute_result"
    }
   ],
   "source": [
    "# Aplicamos la función signo\n",
    "muestra['signo'] = muestra['diferencia'].apply(lambda x: 1 if x > 0 else 0)\n",
    "muestra.head(10)"
   ]
  },
  {
   "cell_type": "code",
   "execution_count": 5,
   "id": "71ee11d0-442e-4705-bce1-223a5c3e94a8",
   "metadata": {},
   "outputs": [
    {
     "data": {
      "text/plain": [
       "np.int64(6)"
      ]
     },
     "execution_count": 5,
     "metadata": {},
     "output_type": "execute_result"
    }
   ],
   "source": [
    "# Sacamos los valores positivos y negativos y definimos el estadístico\n",
    "negativo = muestra['signo'].value_counts()[0]\n",
    "positivo = muestra['signo'].value_counts()[1]\n",
    "\n",
    "# Definimos el estadístico\n",
    "stat = min(negativo, positivo)\n",
    "stat"
   ]
  },
  {
   "cell_type": "code",
   "execution_count": 6,
   "id": "2e919682-a189-490a-b2c5-c4ac43b1256e",
   "metadata": {},
   "outputs": [
    {
     "name": "stdout",
     "output_type": "stream",
     "text": [
      "0.6072387695312499\n"
     ]
    }
   ],
   "source": [
    "# Ahora lo que hacemos es buscar el valor crítico para la primera cola\n",
    "critival_1 = st.binom.ppf(0.025, n=(negativo+positivo), p=0.5)\n",
    "\n",
    "# Ahora lo que hacemos es buscar el valor crítico para la segunda cola\n",
    "critival_2 = st.binom.ppf(0.975, n=(negativo+positivo), p=0.5)\n",
    "\n",
    "# Calculamos el p-value para nuestr estadístico pero para el caso de ambas colas\n",
    "p_value = 2 * st.binom.cdf(stat, n=(negativo+positivo), p=0.5)\n",
    "print(p_value)"
   ]
  },
  {
   "cell_type": "code",
   "execution_count": 7,
   "id": "bba6c440-0c1d-41fb-8683-763609de000b",
   "metadata": {},
   "outputs": [
    {
     "data": {
      "text/plain": [
       "BinomTestResult(k=6, n=15, alternative='two-sided', statistic=0.4, pvalue=0.6072387695312499)"
      ]
     },
     "execution_count": 7,
     "metadata": {},
     "output_type": "execute_result"
    }
   ],
   "source": [
    "# En python, esto lo podemos hacer con el test binomial\n",
    "p_value_dos = st.binomtest(stat, n=(negativo+positivo), p=0.5, alternative='two-sided')\n",
    "p_value_dos"
   ]
  },
  {
   "cell_type": "code",
   "execution_count": 8,
   "id": "c09b7219-3dcc-46db-ab73-5500c517e2ff",
   "metadata": {},
   "outputs": [
    {
     "name": "stdout",
     "output_type": "stream",
     "text": [
      "La conclusión es que como el p-value no esta dentro de la zona de rechazo, no podemos rechzar la hipótesis nula y no existen evidencias significativas para pensar que la mediana de la población es distinta.\n"
     ]
    }
   ],
   "source": [
    "# Marcamos la conclusión\n",
    "print(\"La conclusión es que como el p-value no esta dentro de la zona de rechazo, no podemos rechzar la hipótesis nula y no existen evidencias significativas \\\n",
    "para pensar que la mediana de la población es distinta.\")"
   ]
  },
  {
   "cell_type": "markdown",
   "id": "500642e3-a419-412a-a5c3-0a74f3b9b071",
   "metadata": {},
   "source": [
    "### Wilcoxon signed rank test (para muestras pequeñas!)\n",
    "\n",
    "Este test a diferencia del primero sirve para comprar dos muestras pero que en este caso son dependientes entre sí o están pareadas. Nuevamente lo que vamos a hacer es comparar ambas muestras pero alrededor de sus medianas. Los supuestos que tenemos que tener en cuenta son:\n",
    "\n",
    "* Las muestras tienen que haberse elegido al azar.\n",
    "* Dentro de cada muestra las observaciones tiene que ser independientes.\n",
    "* La distribución de diferencia entre muestras tiene que ser simétrica.\n",
    "\n",
    "El **estadístico** que vamos a utilizar en este caso es el mínimo valor entre la suma del rank de las diferencias positivas(t+) y la suma del rank de las diferencias negativas (t-).\n",
    "\n",
    "#### ¿Que sucede con los estadísticos a 1 cola?\n",
    "\n",
    "**Ho: antes.median() = despues.median()** \\\n",
    "**Ha: antes.median() < despues.median()**\n",
    "\n",
    "En el caso que querramos comprabar, por ejemplo, que la mediana de las ventas luego del tratmiento es mayor a la mediana antes del tramiento, en este caso tendremos que las diferencias negativas (t-) van a ser mayores que las diferencias positivas (t+) y eso es un indicio de un aumento general en las muestras luego del tratmiento (esto se da porque la diferencia que calculamos es antes-despues). Por esto es que vamos a comprar el valor crítico contra (t+). Si el valor de (t+) es menor o igual al valor crítico vamos a rechazar la hipótesis nula.\n",
    "\n",
    "#### Ejemplo\n",
    "En este caso, supongamos que una empresa esta sacando al mercado una nueva oferta sobre un determinado servicio. Lo que queremos hacer es evaluar una muestra de clientes antes y después de haber recibido la oferta para ver si hay un cambio significativo en las ventas.\n",
    "\n",
    "En este caso como sabemos que estamos haciendo un experimento de antes y después sabemos que tenemos muestras que son dependientes.\n",
    "\n",
    "**Ho: antes.median() = despues.median()** \\\n",
    "**Ha: antes.median() != despues.median()**"
   ]
  },
  {
   "cell_type": "code",
   "execution_count": 9,
   "id": "53847350-a6dd-4d58-9913-e007843f0bce",
   "metadata": {},
   "outputs": [],
   "source": [
    "# Creamos el dataframe\n",
    "data = {'antes': [233,388,351,348,376,385,368,266,283,313,376,376],\n",
    "       'despues': [453,257,501,386,274,385,283,375,433,415,158,300]}\n",
    "df = pd.DataFrame(data)"
   ]
  },
  {
   "cell_type": "code",
   "execution_count": 10,
   "id": "36ee9062-fdc1-40ef-a1c5-7a9f6f39783a",
   "metadata": {},
   "outputs": [
    {
     "data": {
      "text/plain": [
       "(11, 3)"
      ]
     },
     "execution_count": 10,
     "metadata": {},
     "output_type": "execute_result"
    }
   ],
   "source": [
    "# calculamos las diferencias y descartamos las que son nulas\n",
    "df['diferencia'] = df['antes'] - df['despues']\n",
    "\n",
    "# Eliminamos los valores cuya diferencia sea cero\n",
    "df = df[df['diferencia'] != 0]\n",
    "df.shape"
   ]
  },
  {
   "cell_type": "code",
   "execution_count": 11,
   "id": "b7d6172e-54a3-41ff-86b9-4c98cb08469d",
   "metadata": {},
   "outputs": [
    {
     "data": {
      "text/html": [
       "<div>\n",
       "<style scoped>\n",
       "    .dataframe tbody tr th:only-of-type {\n",
       "        vertical-align: middle;\n",
       "    }\n",
       "\n",
       "    .dataframe tbody tr th {\n",
       "        vertical-align: top;\n",
       "    }\n",
       "\n",
       "    .dataframe thead th {\n",
       "        text-align: right;\n",
       "    }\n",
       "</style>\n",
       "<table border=\"1\" class=\"dataframe\">\n",
       "  <thead>\n",
       "    <tr style=\"text-align: right;\">\n",
       "      <th></th>\n",
       "      <th>antes</th>\n",
       "      <th>despues</th>\n",
       "      <th>diferencia</th>\n",
       "      <th>abs</th>\n",
       "    </tr>\n",
       "  </thead>\n",
       "  <tbody>\n",
       "    <tr>\n",
       "      <th>0</th>\n",
       "      <td>233</td>\n",
       "      <td>453</td>\n",
       "      <td>-220</td>\n",
       "      <td>220</td>\n",
       "    </tr>\n",
       "    <tr>\n",
       "      <th>1</th>\n",
       "      <td>388</td>\n",
       "      <td>257</td>\n",
       "      <td>131</td>\n",
       "      <td>131</td>\n",
       "    </tr>\n",
       "    <tr>\n",
       "      <th>2</th>\n",
       "      <td>351</td>\n",
       "      <td>501</td>\n",
       "      <td>-150</td>\n",
       "      <td>150</td>\n",
       "    </tr>\n",
       "    <tr>\n",
       "      <th>3</th>\n",
       "      <td>348</td>\n",
       "      <td>386</td>\n",
       "      <td>-38</td>\n",
       "      <td>38</td>\n",
       "    </tr>\n",
       "    <tr>\n",
       "      <th>4</th>\n",
       "      <td>376</td>\n",
       "      <td>274</td>\n",
       "      <td>102</td>\n",
       "      <td>102</td>\n",
       "    </tr>\n",
       "  </tbody>\n",
       "</table>\n",
       "</div>"
      ],
      "text/plain": [
       "   antes  despues  diferencia  abs\n",
       "0    233      453        -220  220\n",
       "1    388      257         131  131\n",
       "2    351      501        -150  150\n",
       "3    348      386         -38   38\n",
       "4    376      274         102  102"
      ]
     },
     "execution_count": 11,
     "metadata": {},
     "output_type": "execute_result"
    }
   ],
   "source": [
    "# Eliminamos los valores cuya diferencia sea cero\n",
    "df['abs'] = df['diferencia'].abs()\n",
    "df.head(5)"
   ]
  },
  {
   "cell_type": "code",
   "execution_count": 12,
   "id": "625ff263-fabe-462f-a598-bf20c879154d",
   "metadata": {},
   "outputs": [
    {
     "data": {
      "text/html": [
       "<div>\n",
       "<style scoped>\n",
       "    .dataframe tbody tr th:only-of-type {\n",
       "        vertical-align: middle;\n",
       "    }\n",
       "\n",
       "    .dataframe tbody tr th {\n",
       "        vertical-align: top;\n",
       "    }\n",
       "\n",
       "    .dataframe thead th {\n",
       "        text-align: right;\n",
       "    }\n",
       "</style>\n",
       "<table border=\"1\" class=\"dataframe\">\n",
       "  <thead>\n",
       "    <tr style=\"text-align: right;\">\n",
       "      <th></th>\n",
       "      <th>antes</th>\n",
       "      <th>despues</th>\n",
       "      <th>diferencia</th>\n",
       "      <th>abs</th>\n",
       "      <th>Ranking</th>\n",
       "    </tr>\n",
       "  </thead>\n",
       "  <tbody>\n",
       "    <tr>\n",
       "      <th>0</th>\n",
       "      <td>233</td>\n",
       "      <td>453</td>\n",
       "      <td>-220</td>\n",
       "      <td>220</td>\n",
       "      <td>11.0</td>\n",
       "    </tr>\n",
       "    <tr>\n",
       "      <th>1</th>\n",
       "      <td>388</td>\n",
       "      <td>257</td>\n",
       "      <td>131</td>\n",
       "      <td>131</td>\n",
       "      <td>7.0</td>\n",
       "    </tr>\n",
       "    <tr>\n",
       "      <th>2</th>\n",
       "      <td>351</td>\n",
       "      <td>501</td>\n",
       "      <td>-150</td>\n",
       "      <td>150</td>\n",
       "      <td>8.5</td>\n",
       "    </tr>\n",
       "    <tr>\n",
       "      <th>3</th>\n",
       "      <td>348</td>\n",
       "      <td>386</td>\n",
       "      <td>-38</td>\n",
       "      <td>38</td>\n",
       "      <td>1.0</td>\n",
       "    </tr>\n",
       "    <tr>\n",
       "      <th>4</th>\n",
       "      <td>376</td>\n",
       "      <td>274</td>\n",
       "      <td>102</td>\n",
       "      <td>102</td>\n",
       "      <td>4.5</td>\n",
       "    </tr>\n",
       "    <tr>\n",
       "      <th>6</th>\n",
       "      <td>368</td>\n",
       "      <td>283</td>\n",
       "      <td>85</td>\n",
       "      <td>85</td>\n",
       "      <td>3.0</td>\n",
       "    </tr>\n",
       "  </tbody>\n",
       "</table>\n",
       "</div>"
      ],
      "text/plain": [
       "   antes  despues  diferencia  abs  Ranking\n",
       "0    233      453        -220  220     11.0\n",
       "1    388      257         131  131      7.0\n",
       "2    351      501        -150  150      8.5\n",
       "3    348      386         -38   38      1.0\n",
       "4    376      274         102  102      4.5\n",
       "6    368      283          85   85      3.0"
      ]
     },
     "execution_count": 12,
     "metadata": {},
     "output_type": "execute_result"
    }
   ],
   "source": [
    "# Calcualmos el ranking (lo bueno de esto es que ya calcula el ranking promedio para los datos que coinciden)\n",
    "df['Ranking'] = df['abs'].rank(ascending=True)\n",
    "df.head(6)"
   ]
  },
  {
   "cell_type": "code",
   "execution_count": 13,
   "id": "07354aab-164b-4242-9241-f0ccf51343e2",
   "metadata": {},
   "outputs": [
    {
     "name": "stdout",
     "output_type": "stream",
     "text": [
      "39.5\n",
      "26.5\n"
     ]
    }
   ],
   "source": [
    "# Ahora lo que hacemos es sumar los ranking que tienen una diferencia negativo y los que tiene una diferencia positiva por otro\n",
    "sum_rank_neg = df[df['diferencia'] < 0]['Ranking'].sum()\n",
    "sum_rank_pos = df[df['diferencia'] > 0]['Ranking'].sum()\n",
    "\n",
    "# imprimimos ambos\n",
    "print(sum_rank_neg)\n",
    "print(sum_rank_pos)\n",
    "\n",
    "# Calculamos también nuestro W_statistic\n",
    "W_statistic = min(sum_rank_neg, sum_rank_pos)\n",
    "\n",
    "# Para luego ver el estadístico tenemos que ir a la tabla de forma manual\n",
    "# https://users.stat.ufl.edu/~winner/tables/wilcox_signrank.pdf\n",
    "# Ahí podemos ver que nuestro W_critico es 10"
   ]
  },
  {
   "cell_type": "code",
   "execution_count": 14,
   "id": "b33052f3-0369-41d5-a9ec-8eb69f08b662",
   "metadata": {},
   "outputs": [],
   "source": [
    "# Conclusión:\n",
    "# En este caso, como nuestro estadístico es mayor que el valor crítico de 10 no podemos rechazar la hipótesis nula y no podemos inferir que el cambio en \n",
    "# la política haya mejorado las ventas. "
   ]
  },
  {
   "cell_type": "code",
   "execution_count": 15,
   "id": "490b24fd-3315-4d8f-a173-3ca736b4a708",
   "metadata": {},
   "outputs": [
    {
     "data": {
      "text/plain": [
       "WilcoxonResult(statistic=np.float64(26.5), pvalue=np.float64(0.6376953125))"
      ]
     },
     "execution_count": 15,
     "metadata": {},
     "output_type": "execute_result"
    }
   ],
   "source": [
    "# Podemos hacer esto mismo en python\n",
    "st.wilcoxon(df['antes'], df['despues'], alternative = 'two-sided', nan_policy=\"omit\")"
   ]
  },
  {
   "cell_type": "markdown",
   "id": "f74dd3af-d5bd-4207-a792-ec09027a872d",
   "metadata": {},
   "source": [
    "### Mann-Whitney U-test\n",
    "\n",
    "Este test es el paralelo al two sample T-test pero en este caso lo que queremos comprobar es si provienen de poblaciones con medianas diferentes. La idea es la misma que antes, si ambas muestras provienen de la misma población si las agrupamos y las ordenamos de menor a mayor deberian estas observaciones intercalarse aleatoriamente, si vemos que por ejemplo, todos los valores de una población se agrupan a la derecha quiere decir que la mediana de dicha población es mayor a la otra.\n",
    "\n",
    "Si esto lo pensamos como diferencias deberíamos ver que si ambas vienen de la misma población esas diferencias las diferencias positivas como las diferencia negativas deberían ser las mismas. Por lo tanto ambas medianas poblacionales deberían ser iguales.\n",
    "\n",
    "Como el U-Test es un test no paramétrico puede ser menos potente que el t-test (tiene menos probabilidad de rechazar la hipótesis nula cuando verdaderamente es falsa) puesto que no diferencia valores extremos productos de los rankings que hace. Pero esto hace que el U-test sea más robusto que el t-test.\n",
    "\n",
    "Las condiciones que se tienen que cumplir son:\n",
    "\n",
    "* Las muestras tienen que haberse elegido al azar.\n",
    "* Dentro de cada muestra las observaciones tiene que ser independientes y también tiene que ocurrrir entre ambas muestras\n",
    "* La distribución de ambas muestras tiene que tener la misma forma (simetría, dispersión, kurtosis, etc.) para que podamos utilizar las medianas. Algo que podemos utilizar para esto es ver también que sean homocedaśticas por ejemplo\n",
    "\n",
    "El **estadístico** es similar al caso anterior: el mínimo entre la suma de rankings pero ajustada por el temaño de la muestra como se verá en el ejemplo.\n",
    "\n",
    "#### ¿Qué potenciales problemas puedo encontrar?\n",
    "\n",
    "Si las distribuciones poblacionales subyacentes de cada muestra solo se diferencia en la localización entonces si podemos decir que el U-Test compara medianas. Pero eso es poco realiasta y no suele ocurrir. Es en estos casos donde la interpretación de los p-values suele ser más compleja que en el T-Test dado que lo que estamos contrastando son probabilidades. Por ejemplo (citando a Joaquín Amat): \"Si las dos muestras comparadas proceden de poblaciones con asimetrías en direcciones opuestas, a pesar de que tanto la media como la mediana sean exactamente las mismas en ambos grupos, el p-value obtenido puede ser muy bajo. Cuando la hipótesis que se quiere contrastar tiene que ser exclusivamente la igualdad de medianas se puede recurrir a la regresión de cuantiles, en concreto al cuantil 0.5, o a los test de permutaciones o bootstrapping. \"\n",
    "\n",
    "Por otro lado, a medida que el tamaño muestral aumenta el U-Test es muy sensible detectando diferencias en las distribuciones poblacionales a pesar que sus medianas sean similares.\n",
    "\n",
    "\n",
    "#### ¿Qué es lo que de verdad estamos constratando?\n",
    "\n",
    "Por ejemplo, si estamos analizando dos muestras que tienen asimetrías opuestas podemos tener, aún así, medianas que son las mismas pero obtener un p-value muy bajo que nos haga contrastar la hipótesis nula de igualdad de medianas. El problema es que lo que verdaderamente nos termina diciendo este test es que existen evidencias para contrastar que las observaciones de una muestra tienen mayor probabilidad de estar por encima de la otra.\n",
    "\n",
    "#### Ejemplo\n",
    "\n",
    "\n",
    "**Ho: antes.median() = despues.median()** \\\n",
    "**Ha: antes.median() != despues.median()**"
   ]
  },
  {
   "cell_type": "code",
   "execution_count": 16,
   "id": "51a9e432-07ec-4f7b-a920-b7457b32fa1f",
   "metadata": {},
   "outputs": [
    {
     "data": {
      "text/html": [
       "<div>\n",
       "<style scoped>\n",
       "    .dataframe tbody tr th:only-of-type {\n",
       "        vertical-align: middle;\n",
       "    }\n",
       "\n",
       "    .dataframe tbody tr th {\n",
       "        vertical-align: top;\n",
       "    }\n",
       "\n",
       "    .dataframe thead th {\n",
       "        text-align: right;\n",
       "    }\n",
       "</style>\n",
       "<table border=\"1\" class=\"dataframe\">\n",
       "  <thead>\n",
       "    <tr style=\"text-align: right;\">\n",
       "      <th></th>\n",
       "      <th>grupo</th>\n",
       "      <th>observaciones</th>\n",
       "    </tr>\n",
       "  </thead>\n",
       "  <tbody>\n",
       "    <tr>\n",
       "      <th>0</th>\n",
       "      <td>group_1</td>\n",
       "      <td>16.0</td>\n",
       "    </tr>\n",
       "    <tr>\n",
       "      <th>1</th>\n",
       "      <td>group_1</td>\n",
       "      <td>11.0</td>\n",
       "    </tr>\n",
       "    <tr>\n",
       "      <th>2</th>\n",
       "      <td>group_1</td>\n",
       "      <td>15.0</td>\n",
       "    </tr>\n",
       "    <tr>\n",
       "      <th>3</th>\n",
       "      <td>group_1</td>\n",
       "      <td>19.0</td>\n",
       "    </tr>\n",
       "    <tr>\n",
       "      <th>4</th>\n",
       "      <td>group_1</td>\n",
       "      <td>20.0</td>\n",
       "    </tr>\n",
       "    <tr>\n",
       "      <th>5</th>\n",
       "      <td>group_1</td>\n",
       "      <td>20.0</td>\n",
       "    </tr>\n",
       "    <tr>\n",
       "      <th>6</th>\n",
       "      <td>group_1</td>\n",
       "      <td>11.0</td>\n",
       "    </tr>\n",
       "    <tr>\n",
       "      <th>7</th>\n",
       "      <td>group_1</td>\n",
       "      <td>20.0</td>\n",
       "    </tr>\n",
       "    <tr>\n",
       "      <th>8</th>\n",
       "      <td>group_2</td>\n",
       "      <td>13.0</td>\n",
       "    </tr>\n",
       "    <tr>\n",
       "      <th>9</th>\n",
       "      <td>group_2</td>\n",
       "      <td>25.0</td>\n",
       "    </tr>\n",
       "    <tr>\n",
       "      <th>10</th>\n",
       "      <td>group_2</td>\n",
       "      <td>25.0</td>\n",
       "    </tr>\n",
       "    <tr>\n",
       "      <th>11</th>\n",
       "      <td>group_2</td>\n",
       "      <td>13.0</td>\n",
       "    </tr>\n",
       "    <tr>\n",
       "      <th>12</th>\n",
       "      <td>group_2</td>\n",
       "      <td>16.0</td>\n",
       "    </tr>\n",
       "    <tr>\n",
       "      <th>13</th>\n",
       "      <td>group_2</td>\n",
       "      <td>17.0</td>\n",
       "    </tr>\n",
       "    <tr>\n",
       "      <th>14</th>\n",
       "      <td>group_2</td>\n",
       "      <td>18.0</td>\n",
       "    </tr>\n",
       "    <tr>\n",
       "      <th>15</th>\n",
       "      <td>group_2</td>\n",
       "      <td>13.0</td>\n",
       "    </tr>\n",
       "    <tr>\n",
       "      <th>16</th>\n",
       "      <td>group_2</td>\n",
       "      <td>25.0</td>\n",
       "    </tr>\n",
       "    <tr>\n",
       "      <th>17</th>\n",
       "      <td>group_2</td>\n",
       "      <td>16.0</td>\n",
       "    </tr>\n",
       "  </tbody>\n",
       "</table>\n",
       "</div>"
      ],
      "text/plain": [
       "      grupo  observaciones\n",
       "0   group_1           16.0\n",
       "1   group_1           11.0\n",
       "2   group_1           15.0\n",
       "3   group_1           19.0\n",
       "4   group_1           20.0\n",
       "5   group_1           20.0\n",
       "6   group_1           11.0\n",
       "7   group_1           20.0\n",
       "8   group_2           13.0\n",
       "9   group_2           25.0\n",
       "10  group_2           25.0\n",
       "11  group_2           13.0\n",
       "12  group_2           16.0\n",
       "13  group_2           17.0\n",
       "14  group_2           18.0\n",
       "15  group_2           13.0\n",
       "16  group_2           25.0\n",
       "17  group_2           16.0"
      ]
     },
     "execution_count": 16,
     "metadata": {},
     "output_type": "execute_result"
    }
   ],
   "source": [
    "# Creamos el dataframe\n",
    "muestra_1 = {'muestra_1': [16,11,15,19,20,20,11,20]}\n",
    "muestra_2 = {'muestra_2': [13,25,25,13,16,17,18,13,25,16]}\n",
    "\n",
    "df = pd.DataFrame(muestra_1)\n",
    "df_2 = pd.DataFrame(muestra_2)\n",
    "\n",
    "df['grupo'] = 'group_1'\n",
    "df_2['grupo'] = 'group_2'\n",
    "\n",
    "# Data concatenado\n",
    "df_concat = pd.concat([df, df_2]).reset_index(drop=True)\n",
    "df_concat['observaciones'] = np.where(df_concat['muestra_1'].isnull(), df_concat['muestra_2'], df_concat['muestra_1'])\n",
    "df_concat.drop(columns = ['muestra_1', 'muestra_2'], inplace=True)\n",
    "df_concat"
   ]
  },
  {
   "cell_type": "code",
   "execution_count": 17,
   "id": "5e8aa562-1658-4243-a139-eb1f4b683bfe",
   "metadata": {},
   "outputs": [
    {
     "data": {
      "text/html": [
       "<div>\n",
       "<style scoped>\n",
       "    .dataframe tbody tr th:only-of-type {\n",
       "        vertical-align: middle;\n",
       "    }\n",
       "\n",
       "    .dataframe tbody tr th {\n",
       "        vertical-align: top;\n",
       "    }\n",
       "\n",
       "    .dataframe thead th {\n",
       "        text-align: right;\n",
       "    }\n",
       "</style>\n",
       "<table border=\"1\" class=\"dataframe\">\n",
       "  <thead>\n",
       "    <tr style=\"text-align: right;\">\n",
       "      <th></th>\n",
       "      <th>grupo</th>\n",
       "      <th>observaciones</th>\n",
       "      <th>Ranking</th>\n",
       "    </tr>\n",
       "  </thead>\n",
       "  <tbody>\n",
       "    <tr>\n",
       "      <th>0</th>\n",
       "      <td>group_1</td>\n",
       "      <td>16.0</td>\n",
       "      <td>8.0</td>\n",
       "    </tr>\n",
       "    <tr>\n",
       "      <th>1</th>\n",
       "      <td>group_1</td>\n",
       "      <td>11.0</td>\n",
       "      <td>1.5</td>\n",
       "    </tr>\n",
       "    <tr>\n",
       "      <th>2</th>\n",
       "      <td>group_1</td>\n",
       "      <td>15.0</td>\n",
       "      <td>6.0</td>\n",
       "    </tr>\n",
       "    <tr>\n",
       "      <th>3</th>\n",
       "      <td>group_1</td>\n",
       "      <td>19.0</td>\n",
       "      <td>12.0</td>\n",
       "    </tr>\n",
       "    <tr>\n",
       "      <th>4</th>\n",
       "      <td>group_1</td>\n",
       "      <td>20.0</td>\n",
       "      <td>14.0</td>\n",
       "    </tr>\n",
       "    <tr>\n",
       "      <th>5</th>\n",
       "      <td>group_1</td>\n",
       "      <td>20.0</td>\n",
       "      <td>14.0</td>\n",
       "    </tr>\n",
       "    <tr>\n",
       "      <th>6</th>\n",
       "      <td>group_1</td>\n",
       "      <td>11.0</td>\n",
       "      <td>1.5</td>\n",
       "    </tr>\n",
       "    <tr>\n",
       "      <th>7</th>\n",
       "      <td>group_1</td>\n",
       "      <td>20.0</td>\n",
       "      <td>14.0</td>\n",
       "    </tr>\n",
       "    <tr>\n",
       "      <th>8</th>\n",
       "      <td>group_2</td>\n",
       "      <td>13.0</td>\n",
       "      <td>4.0</td>\n",
       "    </tr>\n",
       "    <tr>\n",
       "      <th>9</th>\n",
       "      <td>group_2</td>\n",
       "      <td>25.0</td>\n",
       "      <td>17.0</td>\n",
       "    </tr>\n",
       "    <tr>\n",
       "      <th>10</th>\n",
       "      <td>group_2</td>\n",
       "      <td>25.0</td>\n",
       "      <td>17.0</td>\n",
       "    </tr>\n",
       "    <tr>\n",
       "      <th>11</th>\n",
       "      <td>group_2</td>\n",
       "      <td>13.0</td>\n",
       "      <td>4.0</td>\n",
       "    </tr>\n",
       "    <tr>\n",
       "      <th>12</th>\n",
       "      <td>group_2</td>\n",
       "      <td>16.0</td>\n",
       "      <td>8.0</td>\n",
       "    </tr>\n",
       "    <tr>\n",
       "      <th>13</th>\n",
       "      <td>group_2</td>\n",
       "      <td>17.0</td>\n",
       "      <td>10.0</td>\n",
       "    </tr>\n",
       "    <tr>\n",
       "      <th>14</th>\n",
       "      <td>group_2</td>\n",
       "      <td>18.0</td>\n",
       "      <td>11.0</td>\n",
       "    </tr>\n",
       "    <tr>\n",
       "      <th>15</th>\n",
       "      <td>group_2</td>\n",
       "      <td>13.0</td>\n",
       "      <td>4.0</td>\n",
       "    </tr>\n",
       "    <tr>\n",
       "      <th>16</th>\n",
       "      <td>group_2</td>\n",
       "      <td>25.0</td>\n",
       "      <td>17.0</td>\n",
       "    </tr>\n",
       "    <tr>\n",
       "      <th>17</th>\n",
       "      <td>group_2</td>\n",
       "      <td>16.0</td>\n",
       "      <td>8.0</td>\n",
       "    </tr>\n",
       "  </tbody>\n",
       "</table>\n",
       "</div>"
      ],
      "text/plain": [
       "      grupo  observaciones  Ranking\n",
       "0   group_1           16.0      8.0\n",
       "1   group_1           11.0      1.5\n",
       "2   group_1           15.0      6.0\n",
       "3   group_1           19.0     12.0\n",
       "4   group_1           20.0     14.0\n",
       "5   group_1           20.0     14.0\n",
       "6   group_1           11.0      1.5\n",
       "7   group_1           20.0     14.0\n",
       "8   group_2           13.0      4.0\n",
       "9   group_2           25.0     17.0\n",
       "10  group_2           25.0     17.0\n",
       "11  group_2           13.0      4.0\n",
       "12  group_2           16.0      8.0\n",
       "13  group_2           17.0     10.0\n",
       "14  group_2           18.0     11.0\n",
       "15  group_2           13.0      4.0\n",
       "16  group_2           25.0     17.0\n",
       "17  group_2           16.0      8.0"
      ]
     },
     "execution_count": 17,
     "metadata": {},
     "output_type": "execute_result"
    }
   ],
   "source": [
    "# Ahora lo que hacemos es calcular el ranking de todas las observaciones\n",
    "df_concat['Ranking'] = df_concat['observaciones'].rank(ascending=True)\n",
    "df_concat"
   ]
  },
  {
   "cell_type": "code",
   "execution_count": 18,
   "id": "03cde0d3-cd03-49da-8092-525dc113ceb1",
   "metadata": {},
   "outputs": [
    {
     "name": "stdout",
     "output_type": "stream",
     "text": [
      "71.0\n",
      "100.0\n",
      "35.0\n",
      "45.0\n"
     ]
    }
   ],
   "source": [
    "# AHora lo que hacemos es calcular la suma de los rankings para cada grupos\n",
    "sum_rank_1 = df_concat[df_concat['grupo'] == 'group_1']['Ranking'].sum()\n",
    "sum_rank_2 = df_concat[df_concat['grupo'] == 'group_2']['Ranking'].sum()\n",
    "\n",
    "# imprimimos ambos\n",
    "print(sum_rank_1)\n",
    "print(sum_rank_2)\n",
    "\n",
    "# Ahora calculamos el estadístico pero teniendo en cuenta este supuesto de que las distribuciones poblaciones son similares\n",
    "u_1 = sum_rank_1 - (df.shape[0]*(df.shape[0]+1))/2\n",
    "u_2 = sum_rank_2 - (df_2.shape[0]*(df_2.shape[0]+1))/2\n",
    "\n",
    "# imprimimos ambos\n",
    "print(u_1)\n",
    "print(u_2)\n",
    "\n",
    "# Calculamos también nuestro U_statistic\n",
    "U_statistic = min(u_1, u_2)\n",
    "\n",
    "# Nuevamente para esto tenemos una tabla del U_statistic dependiendo si tenemos dos colas o 1 cola: Para este caso es 17...\n",
    "# Como el u_statistic no es menor al estadístico crítico, no podemos rechazar la hipótesis nula de que ambas muestras tienen la misma mediana. Por lo tanto, ambas\n",
    "# muestras provienen de una población equidistribuida (no podemos rechazar esta afirmación)"
   ]
  },
  {
   "cell_type": "code",
   "execution_count": 19,
   "id": "cf89f42f-365c-47b2-bfa9-a7a828835507",
   "metadata": {},
   "outputs": [
    {
     "data": {
      "text/html": [
       "<div>\n",
       "<style scoped>\n",
       "    .dataframe tbody tr th:only-of-type {\n",
       "        vertical-align: middle;\n",
       "    }\n",
       "\n",
       "    .dataframe tbody tr th {\n",
       "        vertical-align: top;\n",
       "    }\n",
       "\n",
       "    .dataframe thead th {\n",
       "        text-align: right;\n",
       "    }\n",
       "</style>\n",
       "<table border=\"1\" class=\"dataframe\">\n",
       "  <thead>\n",
       "    <tr style=\"text-align: right;\">\n",
       "      <th></th>\n",
       "      <th>U-val</th>\n",
       "      <th>alternative</th>\n",
       "      <th>p-val</th>\n",
       "      <th>RBC</th>\n",
       "      <th>CLES</th>\n",
       "    </tr>\n",
       "  </thead>\n",
       "  <tbody>\n",
       "    <tr>\n",
       "      <th>MWU</th>\n",
       "      <td>35.0</td>\n",
       "      <td>two-sided</td>\n",
       "      <td>0.686662</td>\n",
       "      <td>-0.125</td>\n",
       "      <td>0.4375</td>\n",
       "    </tr>\n",
       "  </tbody>\n",
       "</table>\n",
       "</div>"
      ],
      "text/plain": [
       "     U-val alternative     p-val    RBC    CLES\n",
       "MWU   35.0   two-sided  0.686662 -0.125  0.4375"
      ]
     },
     "execution_count": 19,
     "metadata": {},
     "output_type": "execute_result"
    }
   ],
   "source": [
    "# U-test (p-value y tamaño de efecto)\n",
    "# ==============================================================================\n",
    "import pingouin as pg\n",
    "pg.mwu(x=muestra_1['muestra_1'], y=muestra_2['muestra_2'], alternative='two-sided')"
   ]
  },
  {
   "cell_type": "markdown",
   "id": "8d0c1431-7d2f-4b2d-afcd-58b24937c82c",
   "metadata": {},
   "source": [
    "## Categorical data\n",
    "\n",
    "Generalmente en todos los datos que analizamos anteriormente teníamos una variable numérica que la relacionamos con algunos grupos categóricos y comparar medias o medianas. Digamos por ejemplo, el promedio de notas que se sacan los estudiantes respecto a dos cursos distintos, el curso A o el curso B.\n",
    "\n",
    "Otra forma que podríamos tener, que posiblemente sea la más conocida sea relacionar dos variables numéricas. En este caso los análisis que vimos son análisis de correlación o análisis de regresiones en donde queremos ver como es la dinámica de dos variable numéricas posiblemente continuas.\n",
    "\n",
    "Pero podemos tener un ejemplo adicional en donde tenemos dos variables categoricas que queremos analizar. Por ejemplo, podemos dos grupos el A y el B, un grupo de test y un grupo de control, donde a uno se le muestra un componente de una aplicación para suscribirse a un programa y a otro no y queremos analizar si el usuarios se termina suscribiendo o no. Por ende, tenemos 2 categorías que queres relacionar. Este es el caso que vamos a ver a continuación...."
   ]
  },
  {
   "cell_type": "markdown",
   "id": "b13bb943-e865-4bf6-856a-bbf83c93be12",
   "metadata": {},
   "source": [
    "### One sample Z-test (for proportions)\n",
    "\n",
    "En este caso estamos hablando de proporciones sobre conjuntos categoricos (algo que sucede vs algo que no sucede). Los supuestos que tenemos que tener en cuenta en este caso son que:\n",
    "\n",
    "* Las muestras son elegidas al azar.\n",
    "* Las observaciones son independientes.\n",
    "* Tenemos que tener un correcto tamaño muestral: Este supuesto nos ayuda a llevar el caso binomial del test de hipotesis a un caso normal.\n",
    "\n",
    "El estadístico de prueba \\( Z \\) para una prueba de una proporción muestral se calcula como:\n",
    "\n",
    "$$\n",
    "Z = \\frac{\\hat{p} - p_0}{\\sqrt{\\frac{p_0 (1 - p_0)}{n}}}\n",
    "$$\n",
    "\n",
    "donde:\n",
    "\n",
    "- hat{p} es la proporción observada en la muestra.\n",
    "- p_0 es la proporción esperada bajo la hipótesis nula.\n",
    "- n es el tamaño de la muestra.\n",
    "- El denominador es el error estandar para proporciones.\n",
    "\n",
    "Tengan en cuenta que hay formulas que calculan el error estandar del estadístico con p_hat en lugar de con p_0 y esto depende del conocimiento que tengamos de la población total. Es la clasica diferencia entre utilizar un T-test donde no se conoce el desvio standar de la población o el Z test donde se da por conocido el desvio estandar de la población. En el primer caso se aproxima con el parámetro muestral que tenemos, en el segundo se utiliza el parámetro de la hipótesis nula.\n",
    "\n",
    "Ejemplo:\n",
    "\n",
    "Supongamos que quisieramos comparar algorítimos de recomendaciones de productos para ver si la proporción de recomendaciones de 5 estrellas es mayor en un algorítmo que en otro...\n",
    "\n",
    "**H0: Proporcion P de 5 estrellas = 0.75 o p<= 0.75 \\\n",
    "Ha: Proporción P de 5 estrellas > 0.75**\n",
    "\n",
    "(En este caso tenemos el test a una sola cola)"
   ]
  },
  {
   "cell_type": "code",
   "execution_count": 46,
   "id": "35b650af-bab2-47e7-9b8c-0281eb4e3115",
   "metadata": {},
   "outputs": [
    {
     "data": {
      "text/plain": [
       "array([5, 5, 5, 1, 5, 5, 5, 4, 5, 5, 5, 3, 5, 4, 5, 5, 4, 5, 5, 5, 5, 5,\n",
       "       2, 5, 5, 5, 5, 5, 5, 5, 5, 5, 5, 5, 5, 5, 5, 5, 5, 5, 5, 5, 5, 5,\n",
       "       4, 5, 5, 5, 5, 5, 5, 5, 5, 5, 5, 5, 5, 5, 5, 5, 5, 5, 4, 5, 5, 5,\n",
       "       5, 5, 5, 5, 5, 5, 5, 5, 5, 5, 5, 5, 5, 5, 4, 5, 5, 5, 5, 5, 5, 3,\n",
       "       5, 4, 5, 5, 5, 5, 5, 1, 4, 5, 5, 3, 5, 3, 5, 5, 5, 3, 5, 5, 5, 5,\n",
       "       5, 5, 5, 5, 5, 5, 5, 5, 5, 5, 5, 5, 1, 4, 5, 5, 5, 5, 5, 5, 5, 5,\n",
       "       5, 5, 5, 5, 5, 5, 5, 3, 4, 3, 5, 5, 5, 4, 2, 5, 5, 5, 5, 4, 5, 5,\n",
       "       3, 5, 5, 5, 5, 5, 5, 5, 5, 1, 5, 5, 4, 5, 5, 4, 5, 5, 5, 5, 5, 4,\n",
       "       5, 5, 5, 5, 5, 5, 4, 5, 5, 5, 5, 1, 5, 5, 5, 5, 5, 5, 3, 5, 5, 5,\n",
       "       5, 5])"
      ]
     },
     "execution_count": 46,
     "metadata": {},
     "output_type": "execute_result"
    }
   ],
   "source": [
    "# Data de clientes\n",
    "usuarios = np.arange(0,200) + 1\n",
    "usuarios\n",
    "\n",
    "#rating = np.random.randint(1, 6, size=16)\n",
    "#rating\n",
    "\n",
    "rating = np.random.choice([1, 2, 3, 4, 5], size=200, p=[0.05, 0.025, 0.05, 0.075, 0.8])\n",
    "rating"
   ]
  },
  {
   "cell_type": "code",
   "execution_count": 47,
   "id": "b0d7279e-03dc-48a1-8f7d-1a3fc6e081ed",
   "metadata": {},
   "outputs": [
    {
     "data": {
      "text/plain": [
       "200"
      ]
     },
     "execution_count": 47,
     "metadata": {},
     "output_type": "execute_result"
    }
   ],
   "source": [
    "len(usuarios)"
   ]
  },
  {
   "cell_type": "code",
   "execution_count": 53,
   "id": "ce9fd3fd-1299-4f27-9205-5f6dafc3d52a",
   "metadata": {},
   "outputs": [
    {
     "data": {
      "text/plain": [
       "np.int64(168)"
      ]
     },
     "execution_count": 53,
     "metadata": {},
     "output_type": "execute_result"
    }
   ],
   "source": [
    "(rating == 5).sum()"
   ]
  },
  {
   "cell_type": "code",
   "execution_count": 61,
   "id": "9cb2a85f-3f9e-40b6-9d10-13250b55db4e",
   "metadata": {},
   "outputs": [
    {
     "name": "stdout",
     "output_type": "stream",
     "text": [
      "2.939387691339813\n"
     ]
    }
   ],
   "source": [
    "# Definimos los parámetros del modelo:\n",
    "alpha = 0.05\n",
    "n = len(usuarios)\n",
    "p_hat = (rating == 5).sum() / n\n",
    "p_0 = 0.75\n",
    "\n",
    "# Definimos el DEnominador del estadístico\n",
    "SE = np.sqrt(p_0*(1-p_0)/n)\n",
    "\n",
    "# Definimos el estadístico\n",
    "Z = (p_hat - p_0) /SE\n",
    "print(Z)"
   ]
  },
  {
   "cell_type": "code",
   "execution_count": 64,
   "id": "a7d7b784-d7e1-4a4a-a541-392ecf30c0d4",
   "metadata": {},
   "outputs": [
    {
     "name": "stdout",
     "output_type": "stream",
     "text": [
      "0.001644307151923985\n",
      "0.05\n",
      "2.939387691339813\n",
      "1.6448536269514722\n"
     ]
    }
   ],
   "source": [
    "# En este caso como el test es a una única cola no tenemos que divir por dos el alpha\n",
    "Z_critico = st.norm.ppf(1-alpha)\n",
    "\n",
    "p_value = 1 - st.norm.cdf(Z)\n",
    "p_value_critico = 1 - st.norm.cdf(Z_critico)\n",
    "print(p_value)\n",
    "print(alpha)\n",
    "print(Z)\n",
    "print(Z_critico)"
   ]
  },
  {
   "cell_type": "markdown",
   "id": "65b18b71-53dd-4298-bb3b-1f5830b0c9f4",
   "metadata": {},
   "source": [
    "Conclusión: En este caso vemos que el p_value cae en la zona de rechazo del test de hipótesis, es decir tiene un p_value mucho menor al nivel de confianza del test de error de tipo 1 que nosotros le pedimos al modelo. Entonces tenemos evidencias suficientes para poder rechazar la hipótesis nula y acercanos a una hipótesis de que los nuevos ratings tienen mejores calificaciones que las ya evidenciadas\n",
    "\n",
    "En los casos el muestreo aleatorio no nos arroje un p-value para rechazar al hipótesis nula aunque veamos que la proporción es diferente (Ej: 0.8 vs 0.75) puede ser porque la diferencia no es del todo significativa respecto al sample size total."
   ]
  },
  {
   "cell_type": "markdown",
   "id": "88858c23-42b5-423a-a478-9730f9890ec7",
   "metadata": {},
   "source": [
    "### Chi-squared test (independence)\n",
    "\n",
    "Se utiliza cuando queremos ver si existe alguna relación entre dos variables categoricas. Los supuestos son:\n",
    "\n",
    "* Las muestras son elegidas al azar.\n",
    "* Las observaciones son independientes.\n",
    "* Las frecuencias esperadas de cada grupo tienen que ser como mínimo 5. Esto se lo ve mejor en la tabla de contingencias.\n",
    "\n",
    "El estadístico de prueba \\( Z \\) para una prueba de una proporción muestral se calcula como:\n",
    "\n",
    "$$\n",
    "\\chi^2 = \\sum_{i=1}^{r} \\sum_{j=1}^{c} \\frac{(O_{ij} - E_{ij})^2}{E_{ij}}\n",
    "$$\n",
    "\n",
    "Donde:\n",
    "- O es el valor observado de una determinada componente\n",
    "- E es el valor esperado de una determinada componente\n",
    "- R y C son el numero de filas y de culumnas y hacen a los grados de libertad (r-1)(c-1)\n",
    "\n",
    "Supongamos que una compañia esta testeando dos juegos en una app y quiere ser saber si el nivel de eduación tiene alguna relación con estos juegos. Queremos hacer esto con almenos un 5% de confianza. En este caso podemos plantear el problema como que:\n",
    "\n",
    "**HO: La aplicación que se utiliza es independiente del nivel de educación /\n",
    "HA: La aplicación que se utiliza depende del nivel de eduación**\n",
    "\n",
    "Conociendo la distribución de Chi-cuadrado sabemos que al igual que la distribución de T-Student depende de los grados de libertad de la distribución. En este caso a medida que aumentan los grados de libertad de la distribución, la misma se vuelve más simétrica"
   ]
  },
  {
   "cell_type": "code",
   "execution_count": 73,
   "id": "7c24a695-ad99-4ba5-8f53-349270a43288",
   "metadata": {},
   "outputs": [
    {
     "data": {
      "text/plain": [
       "array([[ 6, 21],\n",
       "       [18, 15]])"
      ]
     },
     "execution_count": 73,
     "metadata": {},
     "output_type": "execute_result"
    }
   ],
   "source": [
    "# Si por ejemplo las columnas nos dicen la categoria de educación (A y B) y las filas son las aplicaciones (P1 Y P2)\n",
    "crosstab_matrix = np.array([[6,21],[18,15]])\n",
    "crosstab_matrix"
   ]
  },
  {
   "cell_type": "code",
   "execution_count": 68,
   "id": "d9462246-e371-4e08-a97d-235c7945a263",
   "metadata": {},
   "outputs": [],
   "source": [
    "# Sumarizo ahora las filas \n",
    "sum_filas = crosstab_matrix.sum(axis=1)\n",
    "sum_cols = crosstab_matrix.sum(axis=0)"
   ]
  },
  {
   "cell_type": "code",
   "execution_count": 78,
   "id": "0e0c6bcc-13aa-47ab-9714-ae5514c683fc",
   "metadata": {},
   "outputs": [
    {
     "name": "stdout",
     "output_type": "stream",
     "text": [
      "0.4\n",
      "10.8\n"
     ]
    }
   ],
   "source": [
    "# Los valores esperados se calculan de tal forma porque... supongamos que queremos saber la probabilidad que elegir una persona de educación A\n",
    "print(sum_cols[0]/crosstab_matrix.sum())\n",
    "\n",
    "# Haciendo lo mismo con la educación B vamos a llegar a al 60% pero estas proporciones se tienen que mantener para las aplicaciones entonces las distribucimos..\n",
    "print((sum_cols[0]/crosstab_matrix.sum())*sum_filas[0])"
   ]
  },
  {
   "cell_type": "code",
   "execution_count": 72,
   "id": "9332d821-4731-46dc-992e-313f3586eaac",
   "metadata": {},
   "outputs": [
    {
     "data": {
      "text/plain": [
       "np.float64(19.8)"
      ]
     },
     "execution_count": 72,
     "metadata": {},
     "output_type": "execute_result"
    }
   ],
   "source": [
    "# Calculamos los valores esperados de cada componente\n",
    "E1 = sum_filas[0]*sum_cols[0]/crosstab_matrix.sum()  \n",
    "E2 = sum_filas[0]*sum_cols[1]/crosstab_matrix.sum()  \n",
    "E3 = sum_filas[1]*sum_cols[0]/crosstab_matrix.sum()  \n",
    "E4 = sum_filas[1]*sum_cols[1]/crosstab_matrix.sum()  \n",
    "E4"
   ]
  },
  {
   "cell_type": "code",
   "execution_count": 83,
   "id": "ac235388-aa94-422e-9717-4276b2e065dd",
   "metadata": {},
   "outputs": [
    {
     "name": "stdout",
     "output_type": "stream",
     "text": [
      "6.464646464646466\n"
     ]
    }
   ],
   "source": [
    "# Calculamos el estadístico\n",
    "x2_1 = ((crosstab_matrix[0][0] - E1)**2)/E1\n",
    "x2_2 = ((crosstab_matrix[0][1] - E2)**2)/E2\n",
    "x2_3 = ((crosstab_matrix[1][0] - E3)**2)/E3\n",
    "x2_4 = ((crosstab_matrix[1][1] - E4)**2)/E4\n",
    "\n",
    "# Sumarizamos:\n",
    "X_stat = x2_1 + x2_2 + x2_3 + x2_4\n",
    "print(X_stat)"
   ]
  },
  {
   "cell_type": "code",
   "execution_count": 85,
   "id": "ffb068c3-7384-4c04-8696-53c7afc29e0a",
   "metadata": {},
   "outputs": [
    {
     "name": "stdout",
     "output_type": "stream",
     "text": [
      "3.841458820694124\n"
     ]
    }
   ],
   "source": [
    "# Estadístico crítico (cuantil del 95%)\n",
    "alpha = 0.05\n",
    "df = (2-1)*(2-1)\n",
    "chi2_critico = chi2.ppf(1 - alpha, df)\n",
    "print(chi2_critico)"
   ]
  },
  {
   "cell_type": "code",
   "execution_count": 84,
   "id": "22cf95d6-93cc-4ddb-b749-8fbbacad4a97",
   "metadata": {},
   "outputs": [
    {
     "data": {
      "text/plain": [
       "np.float64(0.01100415317686874)"
      ]
     },
     "execution_count": 84,
     "metadata": {},
     "output_type": "execute_result"
    }
   ],
   "source": [
    "# Calculamos el valor crítico\n",
    "from scipy.stats import chi2\n",
    "\n",
    "# Valor-p (cola derecha)\n",
    "p_value = chi2.sf(X_stat, 1)\n",
    "p_value"
   ]
  },
  {
   "cell_type": "markdown",
   "id": "cb00c64b-e1d0-468a-8c60-8b00720c2069",
   "metadata": {},
   "source": [
    "Como el p-value es menor al 5% podemos rechazar la hipótesis nula de que ambas muestras son independientes y podemos sospechar que existe cierta relación entre ambas muestras."
   ]
  },
  {
   "cell_type": "code",
   "execution_count": null,
   "id": "645de4d3-deac-4900-9147-8c816a9d356f",
   "metadata": {},
   "outputs": [],
   "source": []
  },
  {
   "cell_type": "code",
   "execution_count": null,
   "id": "550c7b24-1dab-4157-b3f6-1f15b36ce77a",
   "metadata": {},
   "outputs": [],
   "source": []
  },
  {
   "cell_type": "code",
   "execution_count": null,
   "id": "1bcb5201-15c0-4cd0-a9aa-8bf22fda33ed",
   "metadata": {},
   "outputs": [],
   "source": []
  },
  {
   "cell_type": "code",
   "execution_count": null,
   "id": "45dab34e-0b82-4be6-90fb-242fbf927a5c",
   "metadata": {},
   "outputs": [],
   "source": []
  },
  {
   "cell_type": "code",
   "execution_count": null,
   "id": "7fc1d6ff-15f6-4cf2-939b-f4587b402aa6",
   "metadata": {},
   "outputs": [],
   "source": []
  },
  {
   "cell_type": "code",
   "execution_count": null,
   "id": "ca9e3c48-4a68-49ed-9371-2b29ac9c1893",
   "metadata": {},
   "outputs": [],
   "source": []
  }
 ],
 "metadata": {
  "kernelspec": {
   "display_name": "Python 3 (ipykernel)",
   "language": "python",
   "name": "python3"
  },
  "language_info": {
   "codemirror_mode": {
    "name": "ipython",
    "version": 3
   },
   "file_extension": ".py",
   "mimetype": "text/x-python",
   "name": "python",
   "nbconvert_exporter": "python",
   "pygments_lexer": "ipython3",
   "version": "3.12.3"
  }
 },
 "nbformat": 4,
 "nbformat_minor": 5
}
