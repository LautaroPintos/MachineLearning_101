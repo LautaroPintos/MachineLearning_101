{
 "cells": [
  {
   "cell_type": "markdown",
   "id": "5170626a-a37f-4246-875c-1fbb22a1d831",
   "metadata": {},
   "source": [
    "## Conceptos importantes de la preparación de datos para ML\n",
    "\n",
    "¿Cuales son los primeros pasos que tenemos que dar a la hora de hacer un análisis de datos? ¿Y si además tenemos que armar un modelo de machine learning?\n",
    "Existen múltiples caminos que podemos seguir para cumplir con estos objetivos. Podríamos parte de la siguiente categorización:\n",
    "\n",
    "* Data collection (Data Engineering)\n",
    "* Análisis exploratorio de los datos (EDA)\n",
    "* Preparación de los datos (Data Wrangling)\n",
    "* Selección de variables (Data Wrangling)\n",
    "* Data Integration (Data Engineering)\n",
    "* Machine learning - Deep Learning (Data Scientist - MLops)\n",
    "* Evaluación del modelo (Data Scientist - MLops)\n",
    "\n",
    "Parece intuitivo el ciclo de vida del dato (pipeline de los datos). No habiendo mucho más que explicar, en esta parte estaremos repasando los principales conceptos que hacen a un análisis exploratorio de los datos y a la preparación de los datos para luego confeccionar un modelo de ML como también para tomar decisiones."
   ]
  },
  {
   "cell_type": "markdown",
   "id": "54b71988-93e7-4720-bb75-5045a978a650",
   "metadata": {},
   "source": [
    "##### Breve reseña de los datos:\n",
    "\n",
    "En este dataset, cada fila representa una persona que saco un crédito en un banco. De acuerdo con sus atributos cada persona fue clasificada como un buen o un mal pagador. Este dataset es una adaptación de un dataset original cuyo creador es Hans Hofmann. Algunas de las variables de este dataset son:\n",
    "\n",
    "* Age (numeric)\n",
    "* Sex (text: male, female)\n",
    "* Job (numeric: 0 - unskilled and non-resident, 1 - unskilled and resident, 2 - skilled, 3 - highly skilled)\n",
    "* Housing (text: own, rent, or free)\n",
    "* Saving accounts (text - little, moderate, quite rich, rich)\n",
    "* Checking account (numeric, in DM - Deutsch Mark)\n",
    "* Credit amount (numeric, in DM)\n",
    "* Duration (numeric, in month)\n",
    "* Purpose (text: car, furniture/equipment, radio/TV, domestic appliances, repairs, education, business, vacation/others)\n",
    "* Risk (Value target - Good or Bad Risk)\n",
    "\n",
    "Fuentes:\n",
    "\n",
    "* https://www.kaggle.com/datasets/kabure/german-credit-data-with-risk\n",
    "* https://archive.ics.uci.edu/dataset/144/statlog+german+credit+data"
   ]
  },
  {
   "cell_type": "code",
   "execution_count": 1,
   "id": "bcc889e2-4644-491b-96c5-32e42b3353f9",
   "metadata": {},
   "outputs": [],
   "source": [
    "# Importamos las librerías\n",
    "import pandas as pd\n",
    "import numpy as np\n",
    "import seaborn as sns\n",
    "import matplotlib.pyplot as plt"
   ]
  },
  {
   "cell_type": "code",
   "execution_count": 3,
   "id": "46e53e7a-3d11-481c-831c-2c8cd188665e",
   "metadata": {},
   "outputs": [
    {
     "data": {
      "text/html": [
       "<div>\n",
       "<style scoped>\n",
       "    .dataframe tbody tr th:only-of-type {\n",
       "        vertical-align: middle;\n",
       "    }\n",
       "\n",
       "    .dataframe tbody tr th {\n",
       "        vertical-align: top;\n",
       "    }\n",
       "\n",
       "    .dataframe thead th {\n",
       "        text-align: right;\n",
       "    }\n",
       "</style>\n",
       "<table border=\"1\" class=\"dataframe\">\n",
       "  <thead>\n",
       "    <tr style=\"text-align: right;\">\n",
       "      <th></th>\n",
       "      <th>Age</th>\n",
       "      <th>Sex</th>\n",
       "      <th>Job</th>\n",
       "      <th>Housing</th>\n",
       "      <th>Saving accounts</th>\n",
       "      <th>Checking account</th>\n",
       "      <th>Credit amount</th>\n",
       "      <th>Duration</th>\n",
       "      <th>Purpose</th>\n",
       "      <th>Risk</th>\n",
       "    </tr>\n",
       "  </thead>\n",
       "  <tbody>\n",
       "    <tr>\n",
       "      <th>0</th>\n",
       "      <td>67</td>\n",
       "      <td>male</td>\n",
       "      <td>2</td>\n",
       "      <td>own</td>\n",
       "      <td>NaN</td>\n",
       "      <td>little</td>\n",
       "      <td>1169</td>\n",
       "      <td>6</td>\n",
       "      <td>radio/TV</td>\n",
       "      <td>good</td>\n",
       "    </tr>\n",
       "    <tr>\n",
       "      <th>1</th>\n",
       "      <td>22</td>\n",
       "      <td>female</td>\n",
       "      <td>2</td>\n",
       "      <td>own</td>\n",
       "      <td>little</td>\n",
       "      <td>moderate</td>\n",
       "      <td>5951</td>\n",
       "      <td>48</td>\n",
       "      <td>radio/TV</td>\n",
       "      <td>bad</td>\n",
       "    </tr>\n",
       "    <tr>\n",
       "      <th>2</th>\n",
       "      <td>49</td>\n",
       "      <td>male</td>\n",
       "      <td>1</td>\n",
       "      <td>own</td>\n",
       "      <td>little</td>\n",
       "      <td>NaN</td>\n",
       "      <td>2096</td>\n",
       "      <td>12</td>\n",
       "      <td>education</td>\n",
       "      <td>good</td>\n",
       "    </tr>\n",
       "    <tr>\n",
       "      <th>3</th>\n",
       "      <td>45</td>\n",
       "      <td>male</td>\n",
       "      <td>2</td>\n",
       "      <td>free</td>\n",
       "      <td>little</td>\n",
       "      <td>little</td>\n",
       "      <td>7882</td>\n",
       "      <td>42</td>\n",
       "      <td>furniture/equipment</td>\n",
       "      <td>good</td>\n",
       "    </tr>\n",
       "    <tr>\n",
       "      <th>4</th>\n",
       "      <td>53</td>\n",
       "      <td>male</td>\n",
       "      <td>2</td>\n",
       "      <td>free</td>\n",
       "      <td>little</td>\n",
       "      <td>little</td>\n",
       "      <td>4870</td>\n",
       "      <td>24</td>\n",
       "      <td>car</td>\n",
       "      <td>bad</td>\n",
       "    </tr>\n",
       "    <tr>\n",
       "      <th>5</th>\n",
       "      <td>35</td>\n",
       "      <td>male</td>\n",
       "      <td>1</td>\n",
       "      <td>free</td>\n",
       "      <td>NaN</td>\n",
       "      <td>NaN</td>\n",
       "      <td>9055</td>\n",
       "      <td>36</td>\n",
       "      <td>education</td>\n",
       "      <td>good</td>\n",
       "    </tr>\n",
       "    <tr>\n",
       "      <th>6</th>\n",
       "      <td>53</td>\n",
       "      <td>male</td>\n",
       "      <td>2</td>\n",
       "      <td>own</td>\n",
       "      <td>quite rich</td>\n",
       "      <td>NaN</td>\n",
       "      <td>2835</td>\n",
       "      <td>24</td>\n",
       "      <td>furniture/equipment</td>\n",
       "      <td>good</td>\n",
       "    </tr>\n",
       "    <tr>\n",
       "      <th>7</th>\n",
       "      <td>35</td>\n",
       "      <td>male</td>\n",
       "      <td>3</td>\n",
       "      <td>rent</td>\n",
       "      <td>little</td>\n",
       "      <td>moderate</td>\n",
       "      <td>6948</td>\n",
       "      <td>36</td>\n",
       "      <td>car</td>\n",
       "      <td>good</td>\n",
       "    </tr>\n",
       "    <tr>\n",
       "      <th>8</th>\n",
       "      <td>61</td>\n",
       "      <td>male</td>\n",
       "      <td>1</td>\n",
       "      <td>own</td>\n",
       "      <td>rich</td>\n",
       "      <td>NaN</td>\n",
       "      <td>3059</td>\n",
       "      <td>12</td>\n",
       "      <td>radio/TV</td>\n",
       "      <td>good</td>\n",
       "    </tr>\n",
       "    <tr>\n",
       "      <th>9</th>\n",
       "      <td>28</td>\n",
       "      <td>male</td>\n",
       "      <td>3</td>\n",
       "      <td>own</td>\n",
       "      <td>little</td>\n",
       "      <td>moderate</td>\n",
       "      <td>5234</td>\n",
       "      <td>30</td>\n",
       "      <td>car</td>\n",
       "      <td>bad</td>\n",
       "    </tr>\n",
       "  </tbody>\n",
       "</table>\n",
       "</div>"
      ],
      "text/plain": [
       "   Age     Sex  Job Housing Saving accounts Checking account  Credit amount  \\\n",
       "0   67    male    2     own             NaN           little           1169   \n",
       "1   22  female    2     own          little         moderate           5951   \n",
       "2   49    male    1     own          little              NaN           2096   \n",
       "3   45    male    2    free          little           little           7882   \n",
       "4   53    male    2    free          little           little           4870   \n",
       "5   35    male    1    free             NaN              NaN           9055   \n",
       "6   53    male    2     own      quite rich              NaN           2835   \n",
       "7   35    male    3    rent          little         moderate           6948   \n",
       "8   61    male    1     own            rich              NaN           3059   \n",
       "9   28    male    3     own          little         moderate           5234   \n",
       "\n",
       "   Duration              Purpose  Risk  \n",
       "0         6             radio/TV  good  \n",
       "1        48             radio/TV   bad  \n",
       "2        12            education  good  \n",
       "3        42  furniture/equipment  good  \n",
       "4        24                  car   bad  \n",
       "5        36            education  good  \n",
       "6        24  furniture/equipment  good  \n",
       "7        36                  car  good  \n",
       "8        12             radio/TV  good  \n",
       "9        30                  car   bad  "
      ]
     },
     "execution_count": 3,
     "metadata": {},
     "output_type": "execute_result"
    }
   ],
   "source": [
    "# Importamos los datos\n",
    "df = pd.read_csv(\"../data/german_credit_data.xls\", index_col=0)\n",
    "df.head(10)"
   ]
  },
  {
   "cell_type": "code",
   "execution_count": 12,
   "id": "c0d09dfc-3fe0-4ccc-be32-65652bfd3e9e",
   "metadata": {},
   "outputs": [
    {
     "data": {
      "text/plain": [
       "pandas.core.frame.DataFrame"
      ]
     },
     "execution_count": 12,
     "metadata": {},
     "output_type": "execute_result"
    }
   ],
   "source": [
    "# Corroboramos el tipo de objeto que levantamos (no es necesario. Fines didácticos)\n",
    "type(df)"
   ]
  },
  {
   "cell_type": "markdown",
   "id": "80ca92af-b223-4dce-a542-0b5ba3c44361",
   "metadata": {},
   "source": [
    "##### Conceptos importantes y diferencias entre DataFrames y Series:\n",
    "\n",
    "Podemos ver que siempre que creemos un dataFrame o una Serie, vamos a ver un indice (index). Vemos que cuando creamos uno de estos objetos y queremos ver que tipo de datos tenemos vemos un \"dtype\". El dtype es el tipo de datos de cada uno de los objetos dentro de la serie o del dataframe. Los objetos que usualmente se llaman strings acá los llamamos \"object\".\n",
    "\n",
    "En particular, una Serie es una lista de datos indexada que mantiene el tipo de datos. Por otro lado, los dataFrames serían una especie de agrupado de Series en función de un mismo indice. A diferencia de lo que vemos en Excel o en otros programas. La diferencia con una matriz convencional es que este tipo de objeto nos permite tener dentro distintos tipos de datos."
   ]
  },
  {
   "cell_type": "markdown",
   "id": "6556d4b4-27ab-4d69-9e76-2ba17df0398d",
   "metadata": {},
   "source": [
    "#### Análisis exploratorio de los datos (EDA)"
   ]
  },
  {
   "cell_type": "code",
   "execution_count": 9,
   "id": "081dedca-0fe2-4e5a-a575-bb1d9bb56021",
   "metadata": {},
   "outputs": [
    {
     "data": {
      "text/plain": [
       "(1000, 10)"
      ]
     },
     "execution_count": 9,
     "metadata": {},
     "output_type": "execute_result"
    }
   ],
   "source": [
    "# Lo primero que tenemos que hacer si es que aún lo desconocemos es saber la cantidad de filas \n",
    "# y columnas del dataset\n",
    "df.shape"
   ]
  },
  {
   "cell_type": "code",
   "execution_count": 10,
   "id": "02289bdb-2ee2-471c-86d5-354c6174773f",
   "metadata": {},
   "outputs": [
    {
     "data": {
      "text/plain": [
       "Age                  int64\n",
       "Sex                 object\n",
       "Job                  int64\n",
       "Housing             object\n",
       "Saving accounts     object\n",
       "Checking account    object\n",
       "Credit amount        int64\n",
       "Duration             int64\n",
       "Purpose             object\n",
       "Risk                object\n",
       "dtype: object"
      ]
     },
     "execution_count": 10,
     "metadata": {},
     "output_type": "execute_result"
    }
   ],
   "source": [
    "# Lo segundo que tenemos que ver es el tipo de datos\n",
    "df.dtypes"
   ]
  },
  {
   "cell_type": "code",
   "execution_count": 11,
   "id": "83ba8089-7f0c-428f-a31b-af481170f09c",
   "metadata": {},
   "outputs": [
    {
     "name": "stdout",
     "output_type": "stream",
     "text": [
      "<class 'pandas.core.frame.DataFrame'>\n",
      "Index: 1000 entries, 0 to 999\n",
      "Data columns (total 10 columns):\n",
      " #   Column            Non-Null Count  Dtype \n",
      "---  ------            --------------  ----- \n",
      " 0   Age               1000 non-null   int64 \n",
      " 1   Sex               1000 non-null   object\n",
      " 2   Job               1000 non-null   int64 \n",
      " 3   Housing           1000 non-null   object\n",
      " 4   Saving accounts   817 non-null    object\n",
      " 5   Checking account  606 non-null    object\n",
      " 6   Credit amount     1000 non-null   int64 \n",
      " 7   Duration          1000 non-null   int64 \n",
      " 8   Purpose           1000 non-null   object\n",
      " 9   Risk              1000 non-null   object\n",
      "dtypes: int64(4), object(6)\n",
      "memory usage: 85.9+ KB\n"
     ]
    }
   ],
   "source": [
    "# Generalmente, si bien la anterior forma sirve, utilizamos el método info dado que también nos aporta \n",
    "# información sobre los nulos del dataset que estamos analizando\n",
    "df.info()"
   ]
  },
  {
   "cell_type": "code",
   "execution_count": 13,
   "id": "c7894187-11eb-4972-9653-51e51a491181",
   "metadata": {},
   "outputs": [
    {
     "data": {
      "text/plain": [
       "Age                   0\n",
       "Sex                   0\n",
       "Job                   0\n",
       "Housing               0\n",
       "Saving accounts     183\n",
       "Checking account    394\n",
       "Credit amount         0\n",
       "Duration              0\n",
       "Purpose               0\n",
       "Risk                  0\n",
       "dtype: int64"
      ]
     },
     "execution_count": 13,
     "metadata": {},
     "output_type": "execute_result"
    }
   ],
   "source": [
    "# Lo que podemos ver con esta función es que además parece que tenemos nulos en dos variables.\n",
    "# Otra forma de chequear esto es:\n",
    "df.isnull().sum()"
   ]
  },
  {
   "cell_type": "code",
   "execution_count": 14,
   "id": "783444ea-67f9-48e2-90b2-57001c7e79ab",
   "metadata": {},
   "outputs": [
    {
     "data": {
      "text/html": [
       "<div>\n",
       "<style scoped>\n",
       "    .dataframe tbody tr th:only-of-type {\n",
       "        vertical-align: middle;\n",
       "    }\n",
       "\n",
       "    .dataframe tbody tr th {\n",
       "        vertical-align: top;\n",
       "    }\n",
       "\n",
       "    .dataframe thead th {\n",
       "        text-align: right;\n",
       "    }\n",
       "</style>\n",
       "<table border=\"1\" class=\"dataframe\">\n",
       "  <thead>\n",
       "    <tr style=\"text-align: right;\">\n",
       "      <th></th>\n",
       "      <th>Age</th>\n",
       "      <th>Job</th>\n",
       "      <th>Credit amount</th>\n",
       "      <th>Duration</th>\n",
       "    </tr>\n",
       "  </thead>\n",
       "  <tbody>\n",
       "    <tr>\n",
       "      <th>count</th>\n",
       "      <td>1000.000000</td>\n",
       "      <td>1000.000000</td>\n",
       "      <td>1000.000000</td>\n",
       "      <td>1000.000000</td>\n",
       "    </tr>\n",
       "    <tr>\n",
       "      <th>mean</th>\n",
       "      <td>35.546000</td>\n",
       "      <td>1.904000</td>\n",
       "      <td>3271.258000</td>\n",
       "      <td>20.903000</td>\n",
       "    </tr>\n",
       "    <tr>\n",
       "      <th>std</th>\n",
       "      <td>11.375469</td>\n",
       "      <td>0.653614</td>\n",
       "      <td>2822.736876</td>\n",
       "      <td>12.058814</td>\n",
       "    </tr>\n",
       "    <tr>\n",
       "      <th>min</th>\n",
       "      <td>19.000000</td>\n",
       "      <td>0.000000</td>\n",
       "      <td>250.000000</td>\n",
       "      <td>4.000000</td>\n",
       "    </tr>\n",
       "    <tr>\n",
       "      <th>25%</th>\n",
       "      <td>27.000000</td>\n",
       "      <td>2.000000</td>\n",
       "      <td>1365.500000</td>\n",
       "      <td>12.000000</td>\n",
       "    </tr>\n",
       "    <tr>\n",
       "      <th>50%</th>\n",
       "      <td>33.000000</td>\n",
       "      <td>2.000000</td>\n",
       "      <td>2319.500000</td>\n",
       "      <td>18.000000</td>\n",
       "    </tr>\n",
       "    <tr>\n",
       "      <th>75%</th>\n",
       "      <td>42.000000</td>\n",
       "      <td>2.000000</td>\n",
       "      <td>3972.250000</td>\n",
       "      <td>24.000000</td>\n",
       "    </tr>\n",
       "    <tr>\n",
       "      <th>max</th>\n",
       "      <td>75.000000</td>\n",
       "      <td>3.000000</td>\n",
       "      <td>18424.000000</td>\n",
       "      <td>72.000000</td>\n",
       "    </tr>\n",
       "  </tbody>\n",
       "</table>\n",
       "</div>"
      ],
      "text/plain": [
       "               Age          Job  Credit amount     Duration\n",
       "count  1000.000000  1000.000000    1000.000000  1000.000000\n",
       "mean     35.546000     1.904000    3271.258000    20.903000\n",
       "std      11.375469     0.653614    2822.736876    12.058814\n",
       "min      19.000000     0.000000     250.000000     4.000000\n",
       "25%      27.000000     2.000000    1365.500000    12.000000\n",
       "50%      33.000000     2.000000    2319.500000    18.000000\n",
       "75%      42.000000     2.000000    3972.250000    24.000000\n",
       "max      75.000000     3.000000   18424.000000    72.000000"
      ]
     },
     "execution_count": 14,
     "metadata": {},
     "output_type": "execute_result"
    }
   ],
   "source": [
    "# Por último, tenemos el método describe que nos muestra estadísticos comunes para las variables numéricas\n",
    "df.describe()"
   ]
  },
  {
   "cell_type": "code",
   "execution_count": 19,
   "id": "de2fe756-998b-4eac-98ef-c6cc4f40ddde",
   "metadata": {},
   "outputs": [
    {
     "name": "stdout",
     "output_type": "stream",
     "text": [
      "Variables categóricas:  ['Sex', 'Housing', 'Saving accounts', 'Checking account', 'Purpose', 'Risk'] \n",
      "\n",
      "Sex\n",
      "male      690\n",
      "female    310\n",
      "Name: count, dtype: int64 \n",
      "\n",
      "\n",
      "Housing\n",
      "own     713\n",
      "rent    179\n",
      "free    108\n",
      "Name: count, dtype: int64 \n",
      "\n",
      "\n",
      "Saving accounts\n",
      "little        603\n",
      "moderate      103\n",
      "quite rich     63\n",
      "rich           48\n",
      "Name: count, dtype: int64 \n",
      "\n",
      "\n",
      "Checking account\n",
      "little      274\n",
      "moderate    269\n",
      "rich         63\n",
      "Name: count, dtype: int64 \n",
      "\n",
      "\n",
      "Purpose\n",
      "car                    337\n",
      "radio/TV               280\n",
      "furniture/equipment    181\n",
      "business                97\n",
      "education               59\n",
      "repairs                 22\n",
      "domestic appliances     12\n",
      "vacation/others         12\n",
      "Name: count, dtype: int64 \n",
      "\n",
      "\n",
      "Risk\n",
      "good    700\n",
      "bad     300\n",
      "Name: count, dtype: int64 \n",
      "\n",
      "\n"
     ]
    }
   ],
   "source": [
    "# Ahora procedemos con un análisis de variables categóricas\n",
    "cat_cols = [col for col in df.columns if df[col].dtypes == 'O']\n",
    "print(\"Variables categóricas: \", cat_cols, \"\\n\")\n",
    "\n",
    "for col in cat_cols:\n",
    "    print(df[col].value_counts(), \"\\n\\n\")"
   ]
  },
  {
   "cell_type": "code",
   "execution_count": null,
   "id": "ddae8d87-30a9-4af4-814b-840f0e93ffb6",
   "metadata": {},
   "outputs": [],
   "source": [
    "# Posteriormente tenemos que seguir con el análisis univariado de las variables numéricas (estadísticas)"
   ]
  },
  {
   "cell_type": "code",
   "execution_count": null,
   "id": "abd8697c-c6dd-4f1d-9ca7-e6d09fa8b727",
   "metadata": {},
   "outputs": [],
   "source": [
    "# En particular, deberíamos hacer un análisis aún más puntilloso de la variable dependiente del modelo (distribución)"
   ]
  },
  {
   "cell_type": "code",
   "execution_count": null,
   "id": "d91892c5-bcc7-40ef-a057-2549ceef8a39",
   "metadata": {},
   "outputs": [],
   "source": [
    "# Análisis bivariado y multivariado"
   ]
  },
  {
   "cell_type": "code",
   "execution_count": null,
   "id": "1b3a864b-96f4-4dc6-9d85-f980b91a83be",
   "metadata": {},
   "outputs": [],
   "source": []
  },
  {
   "cell_type": "markdown",
   "id": "de7535a7-ff1f-42c7-aa18-ad91f91ab912",
   "metadata": {},
   "source": [
    "#### Data Preprocessing"
   ]
  },
  {
   "cell_type": "code",
   "execution_count": 20,
   "id": "dfd00435-f348-46db-b01a-ad22e1fc0057",
   "metadata": {},
   "outputs": [],
   "source": [
    "# Manejo de tipos de datos"
   ]
  },
  {
   "cell_type": "code",
   "execution_count": 21,
   "id": "8e2ad7ba-256f-4ed8-8e1f-55c53eb2ee5c",
   "metadata": {},
   "outputs": [],
   "source": [
    "# Maniejo  de nulos"
   ]
  },
  {
   "cell_type": "code",
   "execution_count": null,
   "id": "1a567af3-d008-4030-b242-167d1554b0bb",
   "metadata": {},
   "outputs": [],
   "source": [
    "# Manejo de outliers"
   ]
  },
  {
   "cell_type": "code",
   "execution_count": 22,
   "id": "10b7084d-92fa-47a1-b13e-9d51033523e6",
   "metadata": {},
   "outputs": [],
   "source": [
    "# Estandarizacion"
   ]
  },
  {
   "cell_type": "code",
   "execution_count": 23,
   "id": "cb161ef2-0287-40d9-812f-f13aa36631ab",
   "metadata": {},
   "outputs": [],
   "source": [
    "# Discretización de variables numéricas"
   ]
  },
  {
   "cell_type": "code",
   "execution_count": 24,
   "id": "bdc3c9ec-1a32-46d1-9168-6fed7078ea21",
   "metadata": {},
   "outputs": [],
   "source": [
    "# Variables de alta cardinalidad"
   ]
  },
  {
   "cell_type": "code",
   "execution_count": 25,
   "id": "51b3d29f-98df-493c-bb52-66cce346ce54",
   "metadata": {},
   "outputs": [],
   "source": [
    "# Anáisis de correlaciones"
   ]
  },
  {
   "cell_type": "code",
   "execution_count": 26,
   "id": "10c7f062-52c4-44d9-98ec-8d77639fa7ba",
   "metadata": {},
   "outputs": [],
   "source": [
    "# Selección de vairbales"
   ]
  },
  {
   "cell_type": "code",
   "execution_count": null,
   "id": "c6aa03e3-ad3a-4e15-ad99-df4c6643f28f",
   "metadata": {},
   "outputs": [],
   "source": []
  }
 ],
 "metadata": {
  "kernelspec": {
   "display_name": "Python 3 (ipykernel)",
   "language": "python",
   "name": "python3"
  },
  "language_info": {
   "codemirror_mode": {
    "name": "ipython",
    "version": 3
   },
   "file_extension": ".py",
   "mimetype": "text/x-python",
   "name": "python",
   "nbconvert_exporter": "python",
   "pygments_lexer": "ipython3",
   "version": "3.11.6"
  }
 },
 "nbformat": 4,
 "nbformat_minor": 5
}
