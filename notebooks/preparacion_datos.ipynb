{
 "cells": [
  {
   "cell_type": "markdown",
   "id": "5170626a-a37f-4246-875c-1fbb22a1d831",
   "metadata": {},
   "source": [
    "### Conceptos importantes de la preparación de datos para ML\n",
    "\n",
    "¿Cuales son los primeros pasos que tenemos que dar a la hora de hacer un análisis de datos? ¿Y si además tenemos que armar un modelo de machine learning?\n",
    "Existen múltiples caminos que podemos seguir para cumplir con estos objetivos. Podríamos parte de la siguiente categorización:\n",
    "\n",
    "* Data collection (Data Engineering)\n",
    "* Análisis exploratorio de los datos (EDA)\n",
    "* Preparación de los datos (Data Wrangling)\n",
    "* Selección de variables (Data Wrangling)\n",
    "* Data Integration (Data Engineering)\n",
    "* Machine learning - Deep Learning (Data Scientist - MLops)\n",
    "* Evaluación del modelo (Data Scientist - MLops)\n",
    "\n",
    "Parece intuitivo el ciclo de vida del dato (pipeline de los datos). No habiendo mucho más que explicar, en esta parte estaremos repasando los principales conceptos que hacen a un análisis exploratorio de los datos y a la preparación de los datos para luego confeccionar un modelo de ML como también para tomar decisiones."
   ]
  },
  {
   "cell_type": "code",
   "execution_count": null,
   "id": "bcc889e2-4644-491b-96c5-32e42b3353f9",
   "metadata": {},
   "outputs": [],
   "source": []
  }
 ],
 "metadata": {
  "kernelspec": {
   "display_name": "Python 3 (ipykernel)",
   "language": "python",
   "name": "python3"
  },
  "language_info": {
   "codemirror_mode": {
    "name": "ipython",
    "version": 3
   },
   "file_extension": ".py",
   "mimetype": "text/x-python",
   "name": "python",
   "nbconvert_exporter": "python",
   "pygments_lexer": "ipython3",
   "version": "3.11.6"
  }
 },
 "nbformat": 4,
 "nbformat_minor": 5
}
